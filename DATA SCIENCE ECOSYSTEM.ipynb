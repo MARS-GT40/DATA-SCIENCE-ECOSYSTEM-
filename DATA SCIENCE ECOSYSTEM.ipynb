{
 "cells": [
  {
   "cell_type": "markdown",
   "id": "a31ad356",
   "metadata": {},
   "source": [
    "# Data Science Tools And Ecosystem"
   ]
  },
  {
   "cell_type": "markdown",
   "id": "ad832cd2",
   "metadata": {},
   "source": [
    "IN THIS NOTEBOOK DATACSINCE TOOLS AND LIBRARIES ARE SUMMARIZED"
   ]
  },
  {
   "cell_type": "markdown",
   "id": "f08a7e16",
   "metadata": {},
   "source": [
    "SOME OF THE POPULAR LANGUAGES UDES IN DATA SCIENCE:\n",
    "Python\n",
    "\n",
    "R\n",
    "\n",
    "SQL\n",
    "\n",
    "Scala\n",
    "\n",
    "Java\n",
    "\n",
    "C++\n",
    "\n",
    "Julia\n",
    "\n",
    "JavaScript\n",
    "\n",
    "PHP\n",
    "\n",
    "Go\n",
    "\n",
    "Ruby\n",
    "\n",
    "Visual Basic"
   ]
  },
  {
   "cell_type": "markdown",
   "id": "69729822",
   "metadata": {},
   "source": [
    "SOME OF THE COMMON LIBRARIRES USED FOR DATA SCIENCE ARE:\n",
    "\n",
    "Pandas\n",
    "\n",
    "Numpy\n",
    "\n",
    "Matplotlib\n",
    "\n",
    "Seaborn\n",
    "\n",
    "Scikit-learn\n",
    "\n",
    "Keras\n",
    "\n",
    "TensorFlow\n",
    "\n",
    "PyTorch\n",
    "\n",
    "Apache Spark\n",
    "\n",
    "Vegas\n",
    "\n",
    "Big DL\n",
    "\n",
    "Ggplot2"
   ]
  },
  {
   "cell_type": "code",
   "execution_count": 2,
   "id": "8767960b",
   "metadata": {},
   "outputs": [
    {
     "name": "stdout",
     "output_type": "stream",
     "text": [
      "4\n",
      "16\n"
     ]
    }
   ],
   "source": [
    "#multiply and add integers \n",
    "print(2+2)\n",
    "print(2*8)"
   ]
  },
  {
   "cell_type": "code",
   "execution_count": null,
   "id": "82427dd4",
   "metadata": {},
   "outputs": [],
   "source": []
  },
  {
   "cell_type": "markdown",
   "id": "3db70462",
   "metadata": {},
   "source": [
    "# AUTHOR DETAILS : ABDULLAH HUZAIFA\n"
   ]
  },
  {
   "cell_type": "code",
   "execution_count": null,
   "id": "b444a5ad",
   "metadata": {},
   "outputs": [],
   "source": []
  }
 ],
 "metadata": {
  "kernelspec": {
   "display_name": "Python 3 (ipykernel)",
   "language": "python",
   "name": "python3"
  },
  "language_info": {
   "codemirror_mode": {
    "name": "ipython",
    "version": 3
   },
   "file_extension": ".py",
   "mimetype": "text/x-python",
   "name": "python",
   "nbconvert_exporter": "python",
   "pygments_lexer": "ipython3",
   "version": "3.11.5"
  }
 },
 "nbformat": 4,
 "nbformat_minor": 5
}
